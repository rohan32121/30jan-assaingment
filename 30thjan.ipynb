{
 "cells": [
  {
   "cell_type": "code",
   "execution_count": null,
   "id": "6e57bbae-d700-49e0-a9bb-96171b1a3595",
   "metadata": {},
   "outputs": [],
   "source": [
    "#4. check how many times a given number can be devided by 3 before it is less than or equal to 10.\n",
    "\n",
    "Ans:\n",
    "Input  : n = 769452\n",
    "Output : Yes\n",
    "\n",
    "Input  : n = 123456758933312\n",
    "Output : No\n",
    "\n",
    "Input  : n = 3635883959606670431112222\n",
    "Output : Yes\n",
    "\n",
    "###5. why and when to use while loop in python giva a detailed description with example\n",
    "\n",
    "Ans:\n",
    "#Python while loop is used to run a block code until a certain condition is met. Here, A while loop evaluates the condition. If the condition evaluates to True , the code inside the while loop is executed.\n",
    "\n",
    "##6. use nested while loop to primt 3 differnt pattren.\n",
    "\n",
    "#Ans: synonyms=['pretty','alluring','lovely']\n",
    "counter=3\n",
    "while counter>0:\n",
    "  answer=input(\"What is the synonym of 'Beautiful': \")\n",
    "  status=True\n",
    "  i=0\n",
    "  while i<len(synonyms):\n",
    "    if(synonyms[i]==answer):\n",
    "       print(\"Correct!!\")\n",
    "       counter=-1\n",
    "       break\n",
    "    else:\n",
    "       status=False\n",
    "    i=i+1\n",
    "  if(status==False):\n",
    "    print(\"Incorrect!!\")\n",
    "    counter=counter-1\n",
    "    print(f\"You have {counter} chances\")\n",
    "\n",
    "\n",
    "##7. reverse a while loop to disply numbers from 10 to 1.\n",
    "\n",
    "##Ans: i = 10\n",
    "while i > 0:\n",
    "    print(i)\n",
    "    i = i - 1\n"
   ]
  }
 ],
 "metadata": {
  "kernelspec": {
   "display_name": "Python 3 (ipykernel)",
   "language": "python",
   "name": "python3"
  },
  "language_info": {
   "codemirror_mode": {
    "name": "ipython",
    "version": 3
   },
   "file_extension": ".py",
   "mimetype": "text/x-python",
   "name": "python",
   "nbconvert_exporter": "python",
   "pygments_lexer": "ipython3",
   "version": "3.10.6"
  }
 },
 "nbformat": 4,
 "nbformat_minor": 5
}
